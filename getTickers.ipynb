{
 "cells": [
  {
   "cell_type": "code",
   "execution_count": 2,
   "id": "991ad7b0-9f27-401a-bae6-bab5466c5906",
   "metadata": {},
   "outputs": [],
   "source": [
    "from get_all_tickers import get_tickers as gt\n",
    "from get_all_tickers.get_tickers import Region\n",
    "# tickers of all exchanges\n"
   ]
  },
  {
   "cell_type": "code",
   "execution_count": 14,
   "id": "476be2ec-a597-4288-92ed-e9b7aa70815d",
   "metadata": {},
   "outputs": [
    {
     "name": "stdout",
     "output_type": "stream",
     "text": [
      "Found existing installation: pytickersymbols 1.13.0\n",
      "Uninstalling pytickersymbols-1.13.0:\n",
      "  Would remove:\n",
      "    /Users/eelan/Library/Python/3.9/lib/python/site-packages/pytickersymbols-1.13.0.dist-info/*\n",
      "    /Users/eelan/Library/Python/3.9/lib/python/site-packages/pytickersymbols/*\n",
      "Proceed (Y/n)? ^C\n",
      "\u001b[31mERROR: Operation cancelled by user\u001b[0m\n"
     ]
    }
   ],
   "source": [
    "!pip3 uninstall pytickersymbols\n"
   ]
  },
  {
   "cell_type": "code",
   "execution_count": 52,
   "id": "24d27833-b461-4bcc-bd55-59fc42dc79da",
   "metadata": {},
   "outputs": [],
   "source": [
    "import pandas as pd\n",
    "import json\n",
    "df = pd.read_csv('tickers.csv')\n",
    "\n",
    "dict_tickers = df.to_dict()\n",
    "list_tickers = [x.upper() for x in list(dict_tickers['0'].values()) if x != 0]\n",
    "\n",
    "\n",
    "\n",
    "# serialize Python object and write to JSON file\n",
    "python_obj = sorted(list_tickers)\n",
    "with open('tickers.json', 'w') as file:\n",
    "    json.dump(python_obj, file)\n",
    "\n",
    "\n",
    "\n",
    "\n"
   ]
  },
  {
   "cell_type": "code",
   "execution_count": null,
   "id": "30d9a74d-e208-4cb6-80bd-3c746a8bdefc",
   "metadata": {},
   "outputs": [],
   "source": []
  }
 ],
 "metadata": {
  "kernelspec": {
   "display_name": "Python 3 (ipykernel)",
   "language": "python",
   "name": "python3"
  },
  "language_info": {
   "codemirror_mode": {
    "name": "ipython",
    "version": 3
   },
   "file_extension": ".py",
   "mimetype": "text/x-python",
   "name": "python",
   "nbconvert_exporter": "python",
   "pygments_lexer": "ipython3",
   "version": "3.11.5"
  }
 },
 "nbformat": 4,
 "nbformat_minor": 5
}
